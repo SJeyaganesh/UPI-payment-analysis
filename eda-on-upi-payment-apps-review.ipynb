{
 "cells": [
  {
   "cell_type": "markdown",
   "id": "a46dd21f",
   "metadata": {
    "papermill": {
     "duration": 0.039416,
     "end_time": "2021-11-30T11:14:01.261255",
     "exception": false,
     "start_time": "2021-11-30T11:14:01.221839",
     "status": "completed"
    },
    "tags": []
   },
   "source": [
    "\n",
    "![](https://external-content.duckduckgo.com/iu/?u=https%3A%2F%2Ftrak.in%2Fwp-content%2Fuploads%2F2017%2F07%2FUPI-logo.jpg&f=1&nofb=1)\n",
    "# Introduction\n",
    "\n",
    "Unified Payments Interface (UPI) is a system that powers multiple bank accounts into a single mobile application (of any participating bank), merging several banking features, seamless fund routing & merchant payments into one hood. It also caters to the “Peer to Peer” collect request which can be scheduled and paid as per requirement and convenience.\n",
    "\n",
    "Looking forward, COVID-19 has provided a new opportunity for UPI and digital banking in general. India wants to decrease the amount of physical currency in circulation, and the pandemic has shown many people the virtues of online banking. For example, young adults wary of infecting their older parents have helped an older generation get on UPI and utilize everything it has to offer.\n",
    "\n",
    "UPI’s recent boom focuses back to the platform’s original goal: creating an even playing field for all people, regardless of background or socioeconomic status. In 10 or 20 years, it would not be surprising to see all banking conducted virtually. Therefore, it is crucial to create a solid infrastructure that eliminates a system of preferential treatment based on wealth. UPI is helping to fight that fight.\n",
    "\n",
    "## Goal Of This Kernal\n",
    "Explore Three Different UPI Companies under different umbrellas like usability, user interface, technical glitches and overall how satisfied the customers are with these apps."
   ]
  },
  {
   "cell_type": "code",
   "execution_count": 1,
   "id": "afdc2dee",
   "metadata": {
    "execution": {
     "iopub.execute_input": "2021-11-30T11:14:01.348123Z",
     "iopub.status.busy": "2021-11-30T11:14:01.342567Z",
     "iopub.status.idle": "2021-11-30T11:14:02.313062Z",
     "shell.execute_reply": "2021-11-30T11:14:02.312377Z",
     "shell.execute_reply.started": "2021-11-30T11:12:11.116990Z"
    },
    "papermill": {
     "duration": 1.011765,
     "end_time": "2021-11-30T11:14:02.313241",
     "exception": false,
     "start_time": "2021-11-30T11:14:01.301476",
     "status": "completed"
    },
    "tags": []
   },
   "outputs": [],
   "source": [
    "import pandas as pd\n",
    "import numpy as np\n",
    "import matplotlib.pyplot as plt\n",
    "import seaborn as sns"
   ]
  },
  {
   "cell_type": "code",
   "execution_count": 2,
   "id": "f9bca21e",
   "metadata": {
    "execution": {
     "iopub.execute_input": "2021-11-30T11:14:02.396374Z",
     "iopub.status.busy": "2021-11-30T11:14:02.393734Z",
     "iopub.status.idle": "2021-11-30T11:14:04.867845Z",
     "shell.execute_reply": "2021-11-30T11:14:04.867297Z",
     "shell.execute_reply.started": "2021-11-30T11:12:12.115257Z"
    },
    "papermill": {
     "duration": 2.515682,
     "end_time": "2021-11-30T11:14:04.867995",
     "exception": false,
     "start_time": "2021-11-30T11:14:02.352313",
     "status": "completed"
    },
    "tags": []
   },
   "outputs": [],
   "source": [
    "google_data = pd.read_csv(\"../input/upi-payment-apps-review-google-play-store/GooglePayIndia.csv\")\n",
    "paytm_data = pd.read_csv(\"../input/upi-payment-apps-review-google-play-store/PaytmIndia.csv\")\n",
    "phonepay_data = pd.read_csv(\"../input/upi-payment-apps-review-google-play-store/PhonePayIndia.csv\")"
   ]
  },
  {
   "cell_type": "markdown",
   "id": "14618107",
   "metadata": {
    "papermill": {
     "duration": 0.038751,
     "end_time": "2021-11-30T11:14:04.946191",
     "exception": false,
     "start_time": "2021-11-30T11:14:04.907440",
     "status": "completed"
    },
    "tags": []
   },
   "source": [
    "## First View Of Data"
   ]
  },
  {
   "cell_type": "code",
   "execution_count": 3,
   "id": "9f5613ca",
   "metadata": {
    "execution": {
     "iopub.execute_input": "2021-11-30T11:14:05.034732Z",
     "iopub.status.busy": "2021-11-30T11:14:05.033979Z",
     "iopub.status.idle": "2021-11-30T11:14:05.052696Z",
     "shell.execute_reply": "2021-11-30T11:14:05.053200Z",
     "shell.execute_reply.started": "2021-11-30T11:12:14.672577Z"
    },
    "papermill": {
     "duration": 0.06781,
     "end_time": "2021-11-30T11:14:05.053384",
     "exception": false,
     "start_time": "2021-11-30T11:14:04.985574",
     "status": "completed"
    },
    "tags": []
   },
   "outputs": [
    {
     "data": {
      "text/html": [
       "<div>\n",
       "<style scoped>\n",
       "    .dataframe tbody tr th:only-of-type {\n",
       "        vertical-align: middle;\n",
       "    }\n",
       "\n",
       "    .dataframe tbody tr th {\n",
       "        vertical-align: top;\n",
       "    }\n",
       "\n",
       "    .dataframe thead th {\n",
       "        text-align: right;\n",
       "    }\n",
       "</style>\n",
       "<table border=\"1\" class=\"dataframe\">\n",
       "  <thead>\n",
       "    <tr style=\"text-align: right;\">\n",
       "      <th></th>\n",
       "      <th>Unnamed: 0</th>\n",
       "      <th>reviewId</th>\n",
       "      <th>userName</th>\n",
       "      <th>userImage</th>\n",
       "      <th>content</th>\n",
       "      <th>score</th>\n",
       "      <th>thumbsUpCount</th>\n",
       "      <th>reviewCreatedVersion</th>\n",
       "      <th>at</th>\n",
       "      <th>replyContent</th>\n",
       "      <th>repliedAt</th>\n",
       "    </tr>\n",
       "  </thead>\n",
       "  <tbody>\n",
       "    <tr>\n",
       "      <th>0</th>\n",
       "      <td>0</td>\n",
       "      <td>gp:AOqpTOEdT_VactGi_J9Q2PEWY7J4XlD7BINhOj9xwOr...</td>\n",
       "      <td>Len Pagnam</td>\n",
       "      <td>https://play-lh.googleusercontent.com/a-/AOh14...</td>\n",
       "      <td>How do add a boarding pass? I see no passes tab.</td>\n",
       "      <td>1</td>\n",
       "      <td>0</td>\n",
       "      <td>2.137.401329300</td>\n",
       "      <td>2021-11-18 17:03:06</td>\n",
       "      <td>Hi Len. Could you try the steps in this guide ...</td>\n",
       "      <td>2021-11-18 17:27:11</td>\n",
       "    </tr>\n",
       "    <tr>\n",
       "      <th>1</th>\n",
       "      <td>1</td>\n",
       "      <td>gp:AOqpTOHltpCzXurPoFUgj-a3L-wApC93-fTvocbF9K7...</td>\n",
       "      <td>Benjamin Silva</td>\n",
       "      <td>https://play-lh.googleusercontent.com/a/AATXAJ...</td>\n",
       "      <td>Best</td>\n",
       "      <td>5</td>\n",
       "      <td>0</td>\n",
       "      <td>2.134.392709498</td>\n",
       "      <td>2021-11-18 16:43:34</td>\n",
       "      <td>NaN</td>\n",
       "      <td>NaN</td>\n",
       "    </tr>\n",
       "    <tr>\n",
       "      <th>2</th>\n",
       "      <td>2</td>\n",
       "      <td>gp:AOqpTOGTiyxy_FWSQe7eCONa7PsIP6v7cS-xWCL6jFF...</td>\n",
       "      <td>PARVESH MIAR</td>\n",
       "      <td>https://play-lh.googleusercontent.com/a-/AOh14...</td>\n",
       "      <td>All ok</td>\n",
       "      <td>5</td>\n",
       "      <td>0</td>\n",
       "      <td>2.138.406141160</td>\n",
       "      <td>2021-11-18 16:12:42</td>\n",
       "      <td>NaN</td>\n",
       "      <td>NaN</td>\n",
       "    </tr>\n",
       "    <tr>\n",
       "      <th>3</th>\n",
       "      <td>3</td>\n",
       "      <td>gp:AOqpTOHllyGnmLGZqPUGokxYncq9kOKoY3Zz_4ZF6b0...</td>\n",
       "      <td>Mikko L.</td>\n",
       "      <td>https://play-lh.googleusercontent.com/a-/AOh14...</td>\n",
       "      <td>Rasy to use really... But there never, ever sh...</td>\n",
       "      <td>3</td>\n",
       "      <td>0</td>\n",
       "      <td>2.138.406141160</td>\n",
       "      <td>2021-11-18 16:06:35</td>\n",
       "      <td>NaN</td>\n",
       "      <td>NaN</td>\n",
       "    </tr>\n",
       "    <tr>\n",
       "      <th>4</th>\n",
       "      <td>4</td>\n",
       "      <td>gp:AOqpTOHjnJ6gAF4NzruhLDGVszAaTKSerVeKt-UtJfM...</td>\n",
       "      <td>A Google user</td>\n",
       "      <td>https://play-lh.googleusercontent.com/EGemoI2N...</td>\n",
       "      <td>I still do not understand why your restricting...</td>\n",
       "      <td>3</td>\n",
       "      <td>251</td>\n",
       "      <td>2.134.392709498</td>\n",
       "      <td>2021-11-18 15:48:08</td>\n",
       "      <td>NaN</td>\n",
       "      <td>NaN</td>\n",
       "    </tr>\n",
       "  </tbody>\n",
       "</table>\n",
       "</div>"
      ],
      "text/plain": [
       "   Unnamed: 0                                           reviewId  \\\n",
       "0           0  gp:AOqpTOEdT_VactGi_J9Q2PEWY7J4XlD7BINhOj9xwOr...   \n",
       "1           1  gp:AOqpTOHltpCzXurPoFUgj-a3L-wApC93-fTvocbF9K7...   \n",
       "2           2  gp:AOqpTOGTiyxy_FWSQe7eCONa7PsIP6v7cS-xWCL6jFF...   \n",
       "3           3  gp:AOqpTOHllyGnmLGZqPUGokxYncq9kOKoY3Zz_4ZF6b0...   \n",
       "4           4  gp:AOqpTOHjnJ6gAF4NzruhLDGVszAaTKSerVeKt-UtJfM...   \n",
       "\n",
       "         userName                                          userImage  \\\n",
       "0      Len Pagnam  https://play-lh.googleusercontent.com/a-/AOh14...   \n",
       "1  Benjamin Silva  https://play-lh.googleusercontent.com/a/AATXAJ...   \n",
       "2    PARVESH MIAR  https://play-lh.googleusercontent.com/a-/AOh14...   \n",
       "3        Mikko L.  https://play-lh.googleusercontent.com/a-/AOh14...   \n",
       "4   A Google user  https://play-lh.googleusercontent.com/EGemoI2N...   \n",
       "\n",
       "                                             content  score  thumbsUpCount  \\\n",
       "0   How do add a boarding pass? I see no passes tab.      1              0   \n",
       "1                                               Best      5              0   \n",
       "2                                             All ok      5              0   \n",
       "3  Rasy to use really... But there never, ever sh...      3              0   \n",
       "4  I still do not understand why your restricting...      3            251   \n",
       "\n",
       "  reviewCreatedVersion                   at  \\\n",
       "0      2.137.401329300  2021-11-18 17:03:06   \n",
       "1      2.134.392709498  2021-11-18 16:43:34   \n",
       "2      2.138.406141160  2021-11-18 16:12:42   \n",
       "3      2.138.406141160  2021-11-18 16:06:35   \n",
       "4      2.134.392709498  2021-11-18 15:48:08   \n",
       "\n",
       "                                        replyContent            repliedAt  \n",
       "0  Hi Len. Could you try the steps in this guide ...  2021-11-18 17:27:11  \n",
       "1                                                NaN                  NaN  \n",
       "2                                                NaN                  NaN  \n",
       "3                                                NaN                  NaN  \n",
       "4                                                NaN                  NaN  "
      ]
     },
     "execution_count": 3,
     "metadata": {},
     "output_type": "execute_result"
    }
   ],
   "source": [
    "google_data.head()"
   ]
  },
  {
   "cell_type": "code",
   "execution_count": 4,
   "id": "586c9ae1",
   "metadata": {
    "execution": {
     "iopub.execute_input": "2021-11-30T11:14:05.135111Z",
     "iopub.status.busy": "2021-11-30T11:14:05.134451Z",
     "iopub.status.idle": "2021-11-30T11:14:05.187038Z",
     "shell.execute_reply": "2021-11-30T11:14:05.186135Z",
     "shell.execute_reply.started": "2021-11-30T11:12:14.704131Z"
    },
    "papermill": {
     "duration": 0.094432,
     "end_time": "2021-11-30T11:14:05.187237",
     "exception": false,
     "start_time": "2021-11-30T11:14:05.092805",
     "status": "completed"
    },
    "tags": []
   },
   "outputs": [
    {
     "name": "stdout",
     "output_type": "stream",
     "text": [
      "<class 'pandas.core.frame.DataFrame'>\n",
      "RangeIndex: 34228 entries, 0 to 34227\n",
      "Data columns (total 11 columns):\n",
      " #   Column                Non-Null Count  Dtype \n",
      "---  ------                --------------  ----- \n",
      " 0   Unnamed: 0            34228 non-null  int64 \n",
      " 1   reviewId              34228 non-null  object\n",
      " 2   userName              34227 non-null  object\n",
      " 3   userImage             34228 non-null  object\n",
      " 4   content               34223 non-null  object\n",
      " 5   score                 34228 non-null  int64 \n",
      " 6   thumbsUpCount         34228 non-null  int64 \n",
      " 7   reviewCreatedVersion  29987 non-null  object\n",
      " 8   at                    34228 non-null  object\n",
      " 9   replyContent          6112 non-null   object\n",
      " 10  repliedAt             6112 non-null   object\n",
      "dtypes: int64(3), object(8)\n",
      "memory usage: 2.9+ MB\n"
     ]
    }
   ],
   "source": [
    "google_data.info()"
   ]
  },
  {
   "cell_type": "markdown",
   "id": "468f7e58",
   "metadata": {
    "papermill": {
     "duration": 0.040401,
     "end_time": "2021-11-30T11:14:05.269064",
     "exception": false,
     "start_time": "2021-11-30T11:14:05.228663",
     "status": "completed"
    },
    "tags": []
   },
   "source": [
    "# Feature Engineering\n",
    "I will divide the Feature Engineering part According to Numeric and Category DataType this will help me to Implement Solutions in a fast and better Way."
   ]
  },
  {
   "cell_type": "markdown",
   "id": "ffcbf56d",
   "metadata": {
    "papermill": {
     "duration": 0.039116,
     "end_time": "2021-11-30T11:14:05.347972",
     "exception": false,
     "start_time": "2021-11-30T11:14:05.308856",
     "status": "completed"
    },
    "tags": []
   },
   "source": [
    "## Featching the Numeric Column and finding all the NaN Values in Google dataset"
   ]
  },
  {
   "cell_type": "code",
   "execution_count": 5,
   "id": "58a9f939",
   "metadata": {
    "execution": {
     "iopub.execute_input": "2021-11-30T11:14:05.436468Z",
     "iopub.status.busy": "2021-11-30T11:14:05.435754Z",
     "iopub.status.idle": "2021-11-30T11:14:05.440996Z",
     "shell.execute_reply": "2021-11-30T11:14:05.441607Z",
     "shell.execute_reply.started": "2021-11-30T11:12:14.758211Z"
    },
    "papermill": {
     "duration": 0.053033,
     "end_time": "2021-11-30T11:14:05.441784",
     "exception": false,
     "start_time": "2021-11-30T11:14:05.388751",
     "status": "completed"
    },
    "tags": []
   },
   "outputs": [
    {
     "data": {
      "text/plain": [
       "Unnamed: 0       0\n",
       "score            0\n",
       "thumbsUpCount    0\n",
       "dtype: int64"
      ]
     },
     "execution_count": 5,
     "metadata": {},
     "output_type": "execute_result"
    }
   ],
   "source": [
    "num_category = [feature for feature in google_data.columns if google_data[feature].dtypes != \"O\"]\n",
    "google_data[num_category].isnull().sum()"
   ]
  },
  {
   "cell_type": "markdown",
   "id": "6ea15c09",
   "metadata": {
    "papermill": {
     "duration": 0.039965,
     "end_time": "2021-11-30T11:14:05.580631",
     "exception": false,
     "start_time": "2021-11-30T11:14:05.540666",
     "status": "completed"
    },
    "tags": []
   },
   "source": [
    "## Featching the Numeric Column and finding all the NaN Values in Paytm dataset"
   ]
  },
  {
   "cell_type": "code",
   "execution_count": 6,
   "id": "0f0a90b4",
   "metadata": {
    "execution": {
     "iopub.execute_input": "2021-11-30T11:14:05.664869Z",
     "iopub.status.busy": "2021-11-30T11:14:05.664130Z",
     "iopub.status.idle": "2021-11-30T11:14:05.674115Z",
     "shell.execute_reply": "2021-11-30T11:14:05.674726Z",
     "shell.execute_reply.started": "2021-11-30T11:12:14.772621Z"
    },
    "papermill": {
     "duration": 0.053713,
     "end_time": "2021-11-30T11:14:05.674899",
     "exception": false,
     "start_time": "2021-11-30T11:14:05.621186",
     "status": "completed"
    },
    "tags": []
   },
   "outputs": [
    {
     "data": {
      "text/plain": [
       "Unnamed: 0       0\n",
       "score            0\n",
       "thumbsUpCount    0\n",
       "dtype: int64"
      ]
     },
     "execution_count": 6,
     "metadata": {},
     "output_type": "execute_result"
    }
   ],
   "source": [
    "num_category = [feature for feature in paytm_data.columns if paytm_data[feature].dtypes != \"O\"]\n",
    "paytm_data[num_category].isnull().sum()"
   ]
  },
  {
   "cell_type": "markdown",
   "id": "4d3ec63d",
   "metadata": {
    "papermill": {
     "duration": 0.04062,
     "end_time": "2021-11-30T11:14:05.756336",
     "exception": false,
     "start_time": "2021-11-30T11:14:05.715716",
     "status": "completed"
    },
    "tags": []
   },
   "source": [
    "## Featching the Numeric Column and finding all the NaN Values in PhonePay dataset"
   ]
  },
  {
   "cell_type": "code",
   "execution_count": 7,
   "id": "061b98bd",
   "metadata": {
    "execution": {
     "iopub.execute_input": "2021-11-30T11:14:05.844924Z",
     "iopub.status.busy": "2021-11-30T11:14:05.840080Z",
     "iopub.status.idle": "2021-11-30T11:14:05.850437Z",
     "shell.execute_reply": "2021-11-30T11:14:05.850960Z",
     "shell.execute_reply.started": "2021-11-30T11:12:14.789884Z"
    },
    "papermill": {
     "duration": 0.054034,
     "end_time": "2021-11-30T11:14:05.851134",
     "exception": false,
     "start_time": "2021-11-30T11:14:05.797100",
     "status": "completed"
    },
    "tags": []
   },
   "outputs": [
    {
     "data": {
      "text/plain": [
       "Unnamed: 0       0\n",
       "score            0\n",
       "thumbsUpCount    0\n",
       "dtype: int64"
      ]
     },
     "execution_count": 7,
     "metadata": {},
     "output_type": "execute_result"
    }
   ],
   "source": [
    "num_category = [feature for feature in phonepay_data.columns if phonepay_data[feature].dtypes != \"O\"]\n",
    "phonepay_data[num_category].isnull().sum()"
   ]
  },
  {
   "cell_type": "markdown",
   "id": "8a8a1c2f",
   "metadata": {
    "papermill": {
     "duration": 0.041448,
     "end_time": "2021-11-30T11:14:05.933870",
     "exception": false,
     "start_time": "2021-11-30T11:14:05.892422",
     "status": "completed"
    },
    "tags": []
   },
   "source": [
    "#### There are no Null Values in Numeric Column in Google, Paytm, PhonePay"
   ]
  },
  {
   "cell_type": "markdown",
   "id": "23d43a0c",
   "metadata": {
    "papermill": {
     "duration": 0.047335,
     "end_time": "2021-11-30T11:14:06.022324",
     "exception": false,
     "start_time": "2021-11-30T11:14:05.974989",
     "status": "completed"
    },
    "tags": []
   },
   "source": [
    "## Finding Out The OutLiers In Numeric Column"
   ]
  },
  {
   "cell_type": "code",
   "execution_count": 8,
   "id": "00fc1a35",
   "metadata": {
    "execution": {
     "iopub.execute_input": "2021-11-30T11:14:06.108337Z",
     "iopub.status.busy": "2021-11-30T11:14:06.107622Z",
     "iopub.status.idle": "2021-11-30T11:14:06.713560Z",
     "shell.execute_reply": "2021-11-30T11:14:06.714066Z",
     "shell.execute_reply.started": "2021-11-30T11:12:14.802994Z"
    },
    "papermill": {
     "duration": 0.650109,
     "end_time": "2021-11-30T11:14:06.714234",
     "exception": false,
     "start_time": "2021-11-30T11:14:06.064125",
     "status": "completed"
    },
    "tags": []
   },
   "outputs": [
    {
     "data": {
      "text/plain": [
       "<AxesSubplot:title={'center':'Checking Outliers in PhonePay thumbsUpCount Column'}, xlabel='thumbsUpCount'>"
      ]
     },
     "execution_count": 8,
     "metadata": {},
     "output_type": "execute_result"
    },
    {
     "data": {
      "image/png": "[encoded data removed]",
      "text/plain": [
       "<Figure size 720x288 with 1 Axes>"
      ]
     },
     "metadata": {
      "needs_background": "light"
     },
     "output_type": "display_data"
    },
    {
     "data": {
      "image/png": "[encoded data removed]",
      "text/plain": [
       "<Figure size 720x288 with 1 Axes>"
      ]
     },
     "metadata": {
      "needs_background": "light"
     },
     "output_type": "display_data"
    },
    {
     "data": {
      "image/png": "[encoded data removed]",
      "text/plain": [
       "<Figure size 720x288 with 1 Axes>"
      ]
     },
     "metadata": {
      "needs_background": "light"
     },
     "output_type": "display_data"
    }
   ],
   "source": [
    "plt.figure(figsize=(10,4))\n",
    "plt.xlim(-100, 3000)\n",
    "flierprops = dict(marker='o', markerfacecolor='purple', markersize=6,\n",
    "                  linestyle='none', markeredgecolor='black')\n",
    "plt.title(\"Checking Outliers in Google thumbsUpCount Column\")\n",
    "sns.boxplot(x=google_data.thumbsUpCount, flierprops=flierprops)\n",
    "\n",
    "plt.figure(figsize=(10,4))\n",
    "plt.title(\"Checking Outliers in Paytm thumbsUpCount Column\")\n",
    "plt.xlim(paytm_data.thumbsUpCount.min(), paytm_data.thumbsUpCount.max()*1.1)\n",
    "sns.boxplot(x=paytm_data.thumbsUpCount, flierprops=flierprops)\n",
    "\n",
    "plt.figure(figsize=(10,4))\n",
    "plt.title(\"Checking Outliers in PhonePay thumbsUpCount Column\")\n",
    "plt.xlim(phonepay_data.thumbsUpCount.min(), phonepay_data.thumbsUpCount.max()*1.1)\n",
    "sns.boxplot(x=phonepay_data.thumbsUpCount, flierprops=flierprops)"
   ]
  },
  {
   "cell_type": "markdown",
   "id": "554cb288",
   "metadata": {
    "papermill": {
     "duration": 0.044492,
     "end_time": "2021-11-30T11:14:06.804151",
     "exception": false,
     "start_time": "2021-11-30T11:14:06.759659",
     "status": "completed"
    },
    "tags": []
   },
   "source": [
    "## There were some Outliers So I removed All the Outliers and assigned back the data"
   ]
  },
  {
   "cell_type": "code",
   "execution_count": 9,
   "id": "52717d05",
   "metadata": {
    "execution": {
     "iopub.execute_input": "2021-11-30T11:14:06.899243Z",
     "iopub.status.busy": "2021-11-30T11:14:06.898036Z",
     "iopub.status.idle": "2021-11-30T11:14:06.951386Z",
     "shell.execute_reply": "2021-11-30T11:14:06.950844Z",
     "shell.execute_reply.started": "2021-11-30T11:12:15.557535Z"
    },
    "papermill": {
     "duration": 0.102914,
     "end_time": "2021-11-30T11:14:06.951543",
     "exception": false,
     "start_time": "2021-11-30T11:14:06.848629",
     "status": "completed"
    },
    "tags": []
   },
   "outputs": [
    {
     "data": {
      "text/html": [
       "<div>\n",
       "<style scoped>\n",
       "    .dataframe tbody tr th:only-of-type {\n",
       "        vertical-align: middle;\n",
       "    }\n",
       "\n",
       "    .dataframe tbody tr th {\n",
       "        vertical-align: top;\n",
       "    }\n",
       "\n",
       "    .dataframe thead th {\n",
       "        text-align: right;\n",
       "    }\n",
       "</style>\n",
       "<table border=\"1\" class=\"dataframe\">\n",
       "  <thead>\n",
       "    <tr style=\"text-align: right;\">\n",
       "      <th></th>\n",
       "      <th>Unnamed: 0</th>\n",
       "      <th>reviewId</th>\n",
       "      <th>userName</th>\n",
       "      <th>userImage</th>\n",
       "      <th>content</th>\n",
       "      <th>score</th>\n",
       "      <th>thumbsUpCount</th>\n",
       "      <th>reviewCreatedVersion</th>\n",
       "      <th>at</th>\n",
       "      <th>replyContent</th>\n",
       "      <th>repliedAt</th>\n",
       "    </tr>\n",
       "  </thead>\n",
       "  <tbody>\n",
       "    <tr>\n",
       "      <th>0</th>\n",
       "      <td>0</td>\n",
       "      <td>gp:AOqpTOEdT_VactGi_J9Q2PEWY7J4XlD7BINhOj9xwOr...</td>\n",
       "      <td>Len Pagnam</td>\n",
       "      <td>https://play-lh.googleusercontent.com/a-/AOh14...</td>\n",
       "      <td>How do add a boarding pass? I see no passes tab.</td>\n",
       "      <td>1</td>\n",
       "      <td>0</td>\n",
       "      <td>2.137.401329300</td>\n",
       "      <td>2021-11-18 17:03:06</td>\n",
       "      <td>Hi Len. Could you try the steps in this guide ...</td>\n",
       "      <td>2021-11-18 17:27:11</td>\n",
       "    </tr>\n",
       "    <tr>\n",
       "      <th>1</th>\n",
       "      <td>1</td>\n",
       "      <td>gp:AOqpTOHltpCzXurPoFUgj-a3L-wApC93-fTvocbF9K7...</td>\n",
       "      <td>Benjamin Silva</td>\n",
       "      <td>https://play-lh.googleusercontent.com/a/AATXAJ...</td>\n",
       "      <td>Best</td>\n",
       "      <td>5</td>\n",
       "      <td>0</td>\n",
       "      <td>2.134.392709498</td>\n",
       "      <td>2021-11-18 16:43:34</td>\n",
       "      <td>NaN</td>\n",
       "      <td>NaN</td>\n",
       "    </tr>\n",
       "    <tr>\n",
       "      <th>2</th>\n",
       "      <td>2</td>\n",
       "      <td>gp:AOqpTOGTiyxy_FWSQe7eCONa7PsIP6v7cS-xWCL6jFF...</td>\n",
       "      <td>PARVESH MIAR</td>\n",
       "      <td>https://play-lh.googleusercontent.com/a-/AOh14...</td>\n",
       "      <td>All ok</td>\n",
       "      <td>5</td>\n",
       "      <td>0</td>\n",
       "      <td>2.138.406141160</td>\n",
       "      <td>2021-11-18 16:12:42</td>\n",
       "      <td>NaN</td>\n",
       "      <td>NaN</td>\n",
       "    </tr>\n",
       "    <tr>\n",
       "      <th>3</th>\n",
       "      <td>3</td>\n",
       "      <td>gp:AOqpTOHllyGnmLGZqPUGokxYncq9kOKoY3Zz_4ZF6b0...</td>\n",
       "      <td>Mikko L.</td>\n",
       "      <td>https://play-lh.googleusercontent.com/a-/AOh14...</td>\n",
       "      <td>Rasy to use really... But there never, ever sh...</td>\n",
       "      <td>3</td>\n",
       "      <td>0</td>\n",
       "      <td>2.138.406141160</td>\n",
       "      <td>2021-11-18 16:06:35</td>\n",
       "      <td>NaN</td>\n",
       "      <td>NaN</td>\n",
       "    </tr>\n",
       "    <tr>\n",
       "      <th>4</th>\n",
       "      <td>4</td>\n",
       "      <td>gp:AOqpTOHjnJ6gAF4NzruhLDGVszAaTKSerVeKt-UtJfM...</td>\n",
       "      <td>A Google user</td>\n",
       "      <td>https://play-lh.googleusercontent.com/EGemoI2N...</td>\n",
       "      <td>I still do not understand why your restricting...</td>\n",
       "      <td>3</td>\n",
       "      <td>251</td>\n",
       "      <td>2.134.392709498</td>\n",
       "      <td>2021-11-18 15:48:08</td>\n",
       "      <td>NaN</td>\n",
       "      <td>NaN</td>\n",
       "    </tr>\n",
       "  </tbody>\n",
       "</table>\n",
       "</div>"
      ],
      "text/plain": [
       "   Unnamed: 0                                           reviewId  \\\n",
       "0           0  gp:AOqpTOEdT_VactGi_J9Q2PEWY7J4XlD7BINhOj9xwOr...   \n",
       "1           1  gp:AOqpTOHltpCzXurPoFUgj-a3L-wApC93-fTvocbF9K7...   \n",
       "2           2  gp:AOqpTOGTiyxy_FWSQe7eCONa7PsIP6v7cS-xWCL6jFF...   \n",
       "3           3  gp:AOqpTOHllyGnmLGZqPUGokxYncq9kOKoY3Zz_4ZF6b0...   \n",
       "4           4  gp:AOqpTOHjnJ6gAF4NzruhLDGVszAaTKSerVeKt-UtJfM...   \n",
       "\n",
       "         userName                                          userImage  \\\n",
       "0      Len Pagnam  https://play-lh.googleusercontent.com/a-/AOh14...   \n",
       "1  Benjamin Silva  https://play-lh.googleusercontent.com/a/AATXAJ...   \n",
       "2    PARVESH MIAR  https://play-lh.googleusercontent.com/a-/AOh14...   \n",
       "3        Mikko L.  https://play-lh.googleusercontent.com/a-/AOh14...   \n",
       "4   A Google user  https://play-lh.googleusercontent.com/EGemoI2N...   \n",
       "\n",
       "                                             content  score  thumbsUpCount  \\\n",
       "0   How do add a boarding pass? I see no passes tab.      1              0   \n",
       "1                                               Best      5              0   \n",
       "2                                             All ok      5              0   \n",
       "3  Rasy to use really... But there never, ever sh...      3              0   \n",
       "4  I still do not understand why your restricting...      3            251   \n",
       "\n",
       "  reviewCreatedVersion                   at  \\\n",
       "0      2.137.401329300  2021-11-18 17:03:06   \n",
       "1      2.134.392709498  2021-11-18 16:43:34   \n",
       "2      2.138.406141160  2021-11-18 16:12:42   \n",
       "3      2.138.406141160  2021-11-18 16:06:35   \n",
       "4      2.134.392709498  2021-11-18 15:48:08   \n",
       "\n",
       "                                        replyContent            repliedAt  \n",
       "0  Hi Len. Could you try the steps in this guide ...  2021-11-18 17:27:11  \n",
       "1                                                NaN                  NaN  \n",
       "2                                                NaN                  NaN  \n",
       "3                                                NaN                  NaN  \n",
       "4                                                NaN                  NaN  "
      ]
     },
     "execution_count": 9,
     "metadata": {},
     "output_type": "execute_result"
    }
   ],
   "source": [
    "google_data = google_data[google_data[\"thumbsUpCount\"] <=500]\n",
    "paytm_data = paytm_data[paytm_data[\"thumbsUpCount\"] <=550]\n",
    "phonepay_data = phonepay_data[phonepay_data[\"thumbsUpCount\"] <=100]\n",
    "google_data.head()"
   ]
  },
  {
   "cell_type": "markdown",
   "id": "f83840f8",
   "metadata": {
    "papermill": {
     "duration": 0.045866,
     "end_time": "2021-11-30T11:14:07.041642",
     "exception": false,
     "start_time": "2021-11-30T11:14:06.995776",
     "status": "completed"
    },
    "tags": []
   },
   "source": [
    "## Featching the Categorical Column and finding all the NaN Values in Google dataset"
   ]
  },
  {
   "cell_type": "code",
   "execution_count": 10,
   "id": "5439ebfb",
   "metadata": {
    "execution": {
     "iopub.execute_input": "2021-11-30T11:14:07.134068Z",
     "iopub.status.busy": "2021-11-30T11:14:07.133012Z",
     "iopub.status.idle": "2021-11-30T11:14:07.178572Z",
     "shell.execute_reply": "2021-11-30T11:14:07.177991Z",
     "shell.execute_reply.started": "2021-11-30T11:12:15.621332Z"
    },
    "papermill": {
     "duration": 0.092562,
     "end_time": "2021-11-30T11:14:07.178724",
     "exception": false,
     "start_time": "2021-11-30T11:14:07.086162",
     "status": "completed"
    },
    "tags": []
   },
   "outputs": [
    {
     "data": {
      "text/plain": [
       "reviewId                    0\n",
       "userName                    1\n",
       "userImage                   0\n",
       "content                     5\n",
       "reviewCreatedVersion     4241\n",
       "at                          0\n",
       "replyContent            28106\n",
       "repliedAt               28106\n",
       "dtype: int64"
      ]
     },
     "execution_count": 10,
     "metadata": {},
     "output_type": "execute_result"
    }
   ],
   "source": [
    "cat_category = [feature for feature in google_data.columns if google_data[feature].dtypes == \"O\"]\n",
    "google_data[cat_category].isnull().sum()"
   ]
  },
  {
   "cell_type": "code",
   "execution_count": 11,
   "id": "ae7fa4cf",
   "metadata": {
    "execution": {
     "iopub.execute_input": "2021-11-30T11:14:07.275713Z",
     "iopub.status.busy": "2021-11-30T11:14:07.274709Z",
     "iopub.status.idle": "2021-11-30T11:14:07.286563Z",
     "shell.execute_reply": "2021-11-30T11:14:07.285817Z",
     "shell.execute_reply.started": "2021-11-30T11:12:15.667164Z"
    },
    "papermill": {
     "duration": 0.063323,
     "end_time": "2021-11-30T11:14:07.286718",
     "exception": false,
     "start_time": "2021-11-30T11:14:07.223395",
     "status": "completed"
    },
    "tags": []
   },
   "outputs": [],
   "source": [
    "google_data = google_data.drop(columns=[\"reviewCreatedVersion\", \"repliedAt\"])\n",
    "google_data[\"replyContent\"] = google_data[\"replyContent\"].fillna(\"No_reply/No_data\")"
   ]
  },
  {
   "cell_type": "markdown",
   "id": "9c7b76ad",
   "metadata": {
    "papermill": {
     "duration": 0.043967,
     "end_time": "2021-11-30T11:14:07.375006",
     "exception": false,
     "start_time": "2021-11-30T11:14:07.331039",
     "status": "completed"
    },
    "tags": []
   },
   "source": [
    "## Featching the Categorical Column and finding all the NaN Values in Paytm dataset"
   ]
  },
  {
   "cell_type": "code",
   "execution_count": 12,
   "id": "0f3cfe28",
   "metadata": {
    "execution": {
     "iopub.execute_input": "2021-11-30T11:14:07.468481Z",
     "iopub.status.busy": "2021-11-30T11:14:07.467793Z",
     "iopub.status.idle": "2021-11-30T11:14:07.616573Z",
     "shell.execute_reply": "2021-11-30T11:14:07.616013Z",
     "shell.execute_reply.started": "2021-11-30T11:12:15.688341Z"
    },
    "papermill": {
     "duration": 0.196307,
     "end_time": "2021-11-30T11:14:07.616729",
     "exception": false,
     "start_time": "2021-11-30T11:14:07.420422",
     "status": "completed"
    },
    "tags": []
   },
   "outputs": [
    {
     "data": {
      "text/plain": [
       "reviewId                    0\n",
       "userName                    0\n",
       "userImage                   0\n",
       "content                     2\n",
       "reviewCreatedVersion    23665\n",
       "at                          0\n",
       "replyContent            69777\n",
       "repliedAt               69777\n",
       "dtype: int64"
      ]
     },
     "execution_count": 12,
     "metadata": {},
     "output_type": "execute_result"
    }
   ],
   "source": [
    "cat_category = [feature for feature in paytm_data.columns if paytm_data[feature].dtypes == \"O\"]\n",
    "paytm_data[cat_category].isnull().sum()"
   ]
  },
  {
   "cell_type": "code",
   "execution_count": 13,
   "id": "1acec4eb",
   "metadata": {
    "execution": {
     "iopub.execute_input": "2021-11-30T11:14:07.714835Z",
     "iopub.status.busy": "2021-11-30T11:14:07.714126Z",
     "iopub.status.idle": "2021-11-30T11:14:07.753845Z",
     "shell.execute_reply": "2021-11-30T11:14:07.754370Z",
     "shell.execute_reply.started": "2021-11-30T11:12:15.841750Z"
    },
    "papermill": {
     "duration": 0.092754,
     "end_time": "2021-11-30T11:14:07.754580",
     "exception": false,
     "start_time": "2021-11-30T11:14:07.661826",
     "status": "completed"
    },
    "tags": []
   },
   "outputs": [],
   "source": [
    "paytm_data = paytm_data.drop(columns=[\"reviewCreatedVersion\",\"repliedAt\"])\n",
    "paytm_data[\"replyContent\"] = paytm_data[\"replyContent\"].fillna(\"No_reply/No_data\")"
   ]
  },
  {
   "cell_type": "markdown",
   "id": "d1cb89f5",
   "metadata": {
    "papermill": {
     "duration": 0.049018,
     "end_time": "2021-11-30T11:14:07.848241",
     "exception": false,
     "start_time": "2021-11-30T11:14:07.799223",
     "status": "completed"
    },
    "tags": []
   },
   "source": [
    "## Featching the Categorical Column and finding all the NaN Values in PhonePay dataset"
   ]
  },
  {
   "cell_type": "code",
   "execution_count": 14,
   "id": "dd7fddf7",
   "metadata": {
    "execution": {
     "iopub.execute_input": "2021-11-30T11:14:07.946480Z",
     "iopub.status.busy": "2021-11-30T11:14:07.945698Z",
     "iopub.status.idle": "2021-11-30T11:14:07.964901Z",
     "shell.execute_reply": "2021-11-30T11:14:07.965472Z",
     "shell.execute_reply.started": "2021-11-30T11:12:15.890052Z"
    },
    "papermill": {
     "duration": 0.070983,
     "end_time": "2021-11-30T11:14:07.965656",
     "exception": false,
     "start_time": "2021-11-30T11:14:07.894673",
     "status": "completed"
    },
    "tags": []
   },
   "outputs": [
    {
     "data": {
      "text/plain": [
       "reviewId                   0\n",
       "userName                   0\n",
       "userImage                  0\n",
       "content                    0\n",
       "reviewCreatedVersion    2136\n",
       "at                         0\n",
       "replyContent            8803\n",
       "repliedAt               8803\n",
       "dtype: int64"
      ]
     },
     "execution_count": 14,
     "metadata": {},
     "output_type": "execute_result"
    }
   ],
   "source": [
    "cat_category = [feature for feature in phonepay_data.columns if phonepay_data[feature].dtypes == \"O\"]\n",
    "phonepay_data[cat_category].isnull().sum()"
   ]
  },
  {
   "cell_type": "code",
   "execution_count": 15,
   "id": "a828ce86",
   "metadata": {
    "execution": {
     "iopub.execute_input": "2021-11-30T11:14:08.074136Z",
     "iopub.status.busy": "2021-11-30T11:14:08.066614Z",
     "iopub.status.idle": "2021-11-30T11:14:08.077652Z",
     "shell.execute_reply": "2021-11-30T11:14:08.077052Z",
     "shell.execute_reply.started": "2021-11-30T11:12:15.915294Z"
    },
    "papermill": {
     "duration": 0.064029,
     "end_time": "2021-11-30T11:14:08.077812",
     "exception": false,
     "start_time": "2021-11-30T11:14:08.013783",
     "status": "completed"
    },
    "tags": []
   },
   "outputs": [],
   "source": [
    "phonepay_data = phonepay_data.drop(columns=[\"reviewCreatedVersion\", \"repliedAt\"])\n",
    "phonepay_data[\"replyContent\"] = phonepay_data[\"replyContent\"].fillna(\"No_reply/No_data\")"
   ]
  },
  {
   "cell_type": "markdown",
   "id": "b548c32f",
   "metadata": {
    "papermill": {
     "duration": 0.04633,
     "end_time": "2021-11-30T11:14:08.172058",
     "exception": false,
     "start_time": "2021-11-30T11:14:08.125728",
     "status": "completed"
    },
    "tags": []
   },
   "source": [
    "#### In all the 3 Datasets I removed [\"reviewCreatedVersion\",\"repliedAt\"] as i think this will not be used in future EDA Part. And I Relplace all the NaN Values from replyContent to \"No_reply/No_data\"."
   ]
  },
  {
   "cell_type": "code",
   "execution_count": 16,
   "id": "672f2874",
   "metadata": {
    "execution": {
     "iopub.execute_input": "2021-11-30T11:14:08.271973Z",
     "iopub.status.busy": "2021-11-30T11:14:08.271240Z",
     "iopub.status.idle": "2021-11-30T11:14:08.306169Z",
     "shell.execute_reply": "2021-11-30T11:14:08.305488Z",
     "shell.execute_reply.started": "2021-11-30T11:12:15.928417Z"
    },
    "papermill": {
     "duration": 0.087452,
     "end_time": "2021-11-30T11:14:08.306345",
     "exception": false,
     "start_time": "2021-11-30T11:14:08.218893",
     "status": "completed"
    },
    "tags": []
   },
   "outputs": [],
   "source": [
    "google_data = google_data.drop([\"Unnamed: 0\", \"reviewId\", \"userName\", \"userImage\"],axis=1)\n",
    "paytm_data = paytm_data.drop([\"Unnamed: 0\", \"reviewId\", \"userName\", \"userImage\"],axis=1)\n",
    "phonepay_data = phonepay_data.drop([\"Unnamed: 0\", \"reviewId\", \"userName\", \"userImage\"],axis=1)"
   ]
  },
  {
   "cell_type": "markdown",
   "id": "8a437095",
   "metadata": {
    "papermill": {
     "duration": 0.045707,
     "end_time": "2021-11-30T11:14:08.397633",
     "exception": false,
     "start_time": "2021-11-30T11:14:08.351926",
     "status": "completed"
    },
    "tags": []
   },
   "source": [
    "### I also assined new \"upi_company\" column to all three datases"
   ]
  },
  {
   "cell_type": "code",
   "execution_count": 17,
   "id": "d4c8b718",
   "metadata": {
    "execution": {
     "iopub.execute_input": "2021-11-30T11:14:08.497687Z",
     "iopub.status.busy": "2021-11-30T11:14:08.495255Z",
     "iopub.status.idle": "2021-11-30T11:14:08.500572Z",
     "shell.execute_reply": "2021-11-30T11:14:08.501171Z",
     "shell.execute_reply.started": "2021-11-30T11:12:15.969135Z"
    },
    "papermill": {
     "duration": 0.056717,
     "end_time": "2021-11-30T11:14:08.501379",
     "exception": false,
     "start_time": "2021-11-30T11:14:08.444662",
     "status": "completed"
    },
    "tags": []
   },
   "outputs": [],
   "source": [
    "google_data[\"upi_company\"] = \"Google\"\n",
    "paytm_data[\"upi_company\"] = \"paytm\"\n",
    "phonepay_data[\"upi_company\"] = \"phonepay\""
   ]
  },
  {
   "cell_type": "markdown",
   "id": "b7418436",
   "metadata": {
    "papermill": {
     "duration": 0.045327,
     "end_time": "2021-11-30T11:14:08.594654",
     "exception": false,
     "start_time": "2021-11-30T11:14:08.549327",
     "status": "completed"
    },
    "tags": []
   },
   "source": [
    "**Then I Joined all three datasets [\"Google\", \"Paytm\", \"Phonepay\"] to a single dataset called data, But before that, I realized that the distribution of data is not equal for example total rows in the google dataset is 34218 and in phonepay it is 11735 and in Paytm it is 137897. So I will be taking only 11734 rows to form each dataset so I also used the `sample()` function so that I can get 11734 random Data for all three datasets.**  "
   ]
  },
  {
   "cell_type": "code",
   "execution_count": 18,
   "id": "fb59c4e8",
   "metadata": {
    "execution": {
     "iopub.execute_input": "2021-11-30T11:14:08.690441Z",
     "iopub.status.busy": "2021-11-30T11:14:08.689749Z",
     "iopub.status.idle": "2021-11-30T11:14:08.788119Z",
     "shell.execute_reply": "2021-11-30T11:14:08.787535Z",
     "shell.execute_reply.started": "2021-11-30T11:12:15.978211Z"
    },
    "papermill": {
     "duration": 0.147154,
     "end_time": "2021-11-30T11:14:08.788261",
     "exception": false,
     "start_time": "2021-11-30T11:14:08.641107",
     "status": "completed"
    },
    "tags": []
   },
   "outputs": [
    {
     "data": {
      "text/html": [
       "<div>\n",
       "<style scoped>\n",
       "    .dataframe tbody tr th:only-of-type {\n",
       "        vertical-align: middle;\n",
       "    }\n",
       "\n",
       "    .dataframe tbody tr th {\n",
       "        vertical-align: top;\n",
       "    }\n",
       "\n",
       "    .dataframe thead th {\n",
       "        text-align: right;\n",
       "    }\n",
       "</style>\n",
       "<table border=\"1\" class=\"dataframe\">\n",
       "  <thead>\n",
       "    <tr style=\"text-align: right;\">\n",
       "      <th></th>\n",
       "      <th>content</th>\n",
       "      <th>score</th>\n",
       "      <th>thumbsUpCount</th>\n",
       "      <th>review_created_at</th>\n",
       "      <th>replyContent</th>\n",
       "      <th>upi_company</th>\n",
       "    </tr>\n",
       "  </thead>\n",
       "  <tbody>\n",
       "    <tr>\n",
       "      <th>0</th>\n",
       "      <td>It is very good app</td>\n",
       "      <td>5</td>\n",
       "      <td>0</td>\n",
       "      <td>2021-11-15 20:20:27</td>\n",
       "      <td>No_reply/No_data</td>\n",
       "      <td>phonepay</td>\n",
       "    </tr>\n",
       "    <tr>\n",
       "      <th>1</th>\n",
       "      <td>Jj</td>\n",
       "      <td>5</td>\n",
       "      <td>0</td>\n",
       "      <td>2021-11-13 11:34:20</td>\n",
       "      <td>No_reply/No_data</td>\n",
       "      <td>phonepay</td>\n",
       "    </tr>\n",
       "    <tr>\n",
       "      <th>2</th>\n",
       "      <td>Great Experience 💐♥️</td>\n",
       "      <td>5</td>\n",
       "      <td>0</td>\n",
       "      <td>2021-11-15 20:20:52</td>\n",
       "      <td>No_reply/No_data</td>\n",
       "      <td>phonepay</td>\n",
       "    </tr>\n",
       "    <tr>\n",
       "      <th>3</th>\n",
       "      <td>I like this app</td>\n",
       "      <td>5</td>\n",
       "      <td>0</td>\n",
       "      <td>2021-11-12 13:53:53</td>\n",
       "      <td>No_reply/No_data</td>\n",
       "      <td>phonepay</td>\n",
       "    </tr>\n",
       "    <tr>\n",
       "      <th>4</th>\n",
       "      <td>Nice</td>\n",
       "      <td>5</td>\n",
       "      <td>0</td>\n",
       "      <td>2021-11-17 14:16:19</td>\n",
       "      <td>No_reply/No_data</td>\n",
       "      <td>phonepay</td>\n",
       "    </tr>\n",
       "  </tbody>\n",
       "</table>\n",
       "</div>"
      ],
      "text/plain": [
       "                content  score  thumbsUpCount    review_created_at  \\\n",
       "0   It is very good app      5              0  2021-11-15 20:20:27   \n",
       "1                    Jj      5              0  2021-11-13 11:34:20   \n",
       "2  Great Experience 💐♥️      5              0  2021-11-15 20:20:52   \n",
       "3       I like this app      5              0  2021-11-12 13:53:53   \n",
       "4                  Nice      5              0  2021-11-17 14:16:19   \n",
       "\n",
       "       replyContent upi_company  \n",
       "0  No_reply/No_data    phonepay  \n",
       "1  No_reply/No_data    phonepay  \n",
       "2  No_reply/No_data    phonepay  \n",
       "3  No_reply/No_data    phonepay  \n",
       "4  No_reply/No_data    phonepay  "
      ]
     },
     "execution_count": 18,
     "metadata": {},
     "output_type": "execute_result"
    }
   ],
   "source": [
    "google_data = google_data.sample(frac=1).reset_index(drop=True)\n",
    "paytm_data = paytm_data.sample(frac=1).reset_index(drop=True)\n",
    "phonepay_data = phonepay_data.sample(frac=1).reset_index(drop=True)\n",
    "\n",
    "data = phonepay_data.append([paytm_data[:11735 ], google_data[:11735]], ignore_index=True)\n",
    "\n",
    "data = data.rename(columns={\"at\": \"review_created_at\"})\n",
    "data.head()"
   ]
  },
  {
   "cell_type": "code",
   "execution_count": 19,
   "id": "740df844",
   "metadata": {
    "execution": {
     "iopub.execute_input": "2021-11-30T11:14:08.887117Z",
     "iopub.status.busy": "2021-11-30T11:14:08.886480Z",
     "iopub.status.idle": "2021-11-30T11:14:08.906623Z",
     "shell.execute_reply": "2021-11-30T11:14:08.907197Z",
     "shell.execute_reply.started": "2021-11-30T11:12:16.083068Z"
    },
    "papermill": {
     "duration": 0.072188,
     "end_time": "2021-11-30T11:14:08.907437",
     "exception": false,
     "start_time": "2021-11-30T11:14:08.835249",
     "status": "completed"
    },
    "tags": []
   },
   "outputs": [
    {
     "data": {
      "text/html": [
       "<div>\n",
       "<style scoped>\n",
       "    .dataframe tbody tr th:only-of-type {\n",
       "        vertical-align: middle;\n",
       "    }\n",
       "\n",
       "    .dataframe tbody tr th {\n",
       "        vertical-align: top;\n",
       "    }\n",
       "\n",
       "    .dataframe thead th {\n",
       "        text-align: right;\n",
       "    }\n",
       "</style>\n",
       "<table border=\"1\" class=\"dataframe\">\n",
       "  <thead>\n",
       "    <tr style=\"text-align: right;\">\n",
       "      <th></th>\n",
       "      <th>content</th>\n",
       "      <th>score</th>\n",
       "      <th>thumbsUpCount</th>\n",
       "      <th>review_created_at</th>\n",
       "      <th>replyContent</th>\n",
       "      <th>upi_company</th>\n",
       "    </tr>\n",
       "  </thead>\n",
       "  <tbody>\n",
       "    <tr>\n",
       "      <th>0</th>\n",
       "      <td>Good</td>\n",
       "      <td>5</td>\n",
       "      <td>0</td>\n",
       "      <td>2021-11-12 21:41:19</td>\n",
       "      <td>No_reply/No_data</td>\n",
       "      <td>phonepay</td>\n",
       "    </tr>\n",
       "    <tr>\n",
       "      <th>1</th>\n",
       "      <td>Very bad I'm trying to buy google play recharg...</td>\n",
       "      <td>1</td>\n",
       "      <td>0</td>\n",
       "      <td>2021-10-21 19:59:17</td>\n",
       "      <td>Hi! We’d like to take a closer look and help y...</td>\n",
       "      <td>paytm</td>\n",
       "    </tr>\n",
       "    <tr>\n",
       "      <th>2</th>\n",
       "      <td>Does not work mince</td>\n",
       "      <td>1</td>\n",
       "      <td>0</td>\n",
       "      <td>2020-03-05 13:43:44</td>\n",
       "      <td>Hi Andrew. You can find the device requirement...</td>\n",
       "      <td>Google</td>\n",
       "    </tr>\n",
       "    <tr>\n",
       "      <th>3</th>\n",
       "      <td>Power</td>\n",
       "      <td>5</td>\n",
       "      <td>0</td>\n",
       "      <td>2021-10-21 14:45:40</td>\n",
       "      <td>No_reply/No_data</td>\n",
       "      <td>paytm</td>\n",
       "    </tr>\n",
       "    <tr>\n",
       "      <th>4</th>\n",
       "      <td>Good experience</td>\n",
       "      <td>5</td>\n",
       "      <td>0</td>\n",
       "      <td>2021-10-15 00:35:36</td>\n",
       "      <td>Awesome! It's been our pleasure. You can also ...</td>\n",
       "      <td>paytm</td>\n",
       "    </tr>\n",
       "  </tbody>\n",
       "</table>\n",
       "</div>"
      ],
      "text/plain": [
       "                                             content  score  thumbsUpCount  \\\n",
       "0                                               Good      5              0   \n",
       "1  Very bad I'm trying to buy google play recharg...      1              0   \n",
       "2                                Does not work mince      1              0   \n",
       "3                                              Power      5              0   \n",
       "4                                    Good experience      5              0   \n",
       "\n",
       "     review_created_at                                       replyContent  \\\n",
       "0  2021-11-12 21:41:19                                   No_reply/No_data   \n",
       "1  2021-10-21 19:59:17  Hi! We’d like to take a closer look and help y...   \n",
       "2  2020-03-05 13:43:44  Hi Andrew. You can find the device requirement...   \n",
       "3  2021-10-21 14:45:40                                   No_reply/No_data   \n",
       "4  2021-10-15 00:35:36  Awesome! It's been our pleasure. You can also ...   \n",
       "\n",
       "  upi_company  \n",
       "0    phonepay  \n",
       "1       paytm  \n",
       "2      Google  \n",
       "3       paytm  \n",
       "4       paytm  "
      ]
     },
     "execution_count": 19,
     "metadata": {},
     "output_type": "execute_result"
    }
   ],
   "source": [
    "data = data.sample(frac=1).reset_index(drop=True)\n",
    "data.head()"
   ]
  },
  {
   "cell_type": "markdown",
   "id": "527cd968",
   "metadata": {
    "papermill": {
     "duration": 0.047896,
     "end_time": "2021-11-30T11:14:09.001565",
     "exception": false,
     "start_time": "2021-11-30T11:14:08.953669",
     "status": "completed"
    },
    "tags": []
   },
   "source": [
    "### \"review_created_at\" column was in str dtype so I converted it to DateTime format and then I extracted year and month from Datetime Column. And then I arranged the data Accordingly**"
   ]
  },
  {
   "cell_type": "code",
   "execution_count": 20,
   "id": "0170f09a",
   "metadata": {
    "execution": {
     "iopub.execute_input": "2021-11-30T11:14:09.118316Z",
     "iopub.status.busy": "2021-11-30T11:14:09.098659Z",
     "iopub.status.idle": "2021-11-30T11:14:09.147057Z",
     "shell.execute_reply": "2021-11-30T11:14:09.146514Z",
     "shell.execute_reply.started": "2021-11-30T11:12:16.107585Z"
    },
    "papermill": {
     "duration": 0.09783,
     "end_time": "2021-11-30T11:14:09.147194",
     "exception": false,
     "start_time": "2021-11-30T11:14:09.049364",
     "status": "completed"
    },
    "tags": []
   },
   "outputs": [
    {
     "data": {
      "text/html": [
       "<div>\n",
       "<style scoped>\n",
       "    .dataframe tbody tr th:only-of-type {\n",
       "        vertical-align: middle;\n",
       "    }\n",
       "\n",
       "    .dataframe tbody tr th {\n",
       "        vertical-align: top;\n",
       "    }\n",
       "\n",
       "    .dataframe thead th {\n",
       "        text-align: right;\n",
       "    }\n",
       "</style>\n",
       "<table border=\"1\" class=\"dataframe\">\n",
       "  <thead>\n",
       "    <tr style=\"text-align: right;\">\n",
       "      <th></th>\n",
       "      <th>upi_company</th>\n",
       "      <th>Year</th>\n",
       "      <th>month</th>\n",
       "      <th>content</th>\n",
       "      <th>score</th>\n",
       "      <th>thumbsUpCount</th>\n",
       "      <th>replyContent</th>\n",
       "    </tr>\n",
       "  </thead>\n",
       "  <tbody>\n",
       "    <tr>\n",
       "      <th>0</th>\n",
       "      <td>phonepay</td>\n",
       "      <td>2021</td>\n",
       "      <td>11</td>\n",
       "      <td>Good</td>\n",
       "      <td>5</td>\n",
       "      <td>0</td>\n",
       "      <td>No_reply/No_data</td>\n",
       "    </tr>\n",
       "    <tr>\n",
       "      <th>1</th>\n",
       "      <td>paytm</td>\n",
       "      <td>2021</td>\n",
       "      <td>10</td>\n",
       "      <td>Very bad I'm trying to buy google play recharg...</td>\n",
       "      <td>1</td>\n",
       "      <td>0</td>\n",
       "      <td>Hi! We’d like to take a closer look and help y...</td>\n",
       "    </tr>\n",
       "    <tr>\n",
       "      <th>2</th>\n",
       "      <td>Google</td>\n",
       "      <td>2020</td>\n",
       "      <td>3</td>\n",
       "      <td>Does not work mince</td>\n",
       "      <td>1</td>\n",
       "      <td>0</td>\n",
       "      <td>Hi Andrew. You can find the device requirement...</td>\n",
       "    </tr>\n",
       "    <tr>\n",
       "      <th>3</th>\n",
       "      <td>paytm</td>\n",
       "      <td>2021</td>\n",
       "      <td>10</td>\n",
       "      <td>Power</td>\n",
       "      <td>5</td>\n",
       "      <td>0</td>\n",
       "      <td>No_reply/No_data</td>\n",
       "    </tr>\n",
       "    <tr>\n",
       "      <th>4</th>\n",
       "      <td>paytm</td>\n",
       "      <td>2021</td>\n",
       "      <td>10</td>\n",
       "      <td>Good experience</td>\n",
       "      <td>5</td>\n",
       "      <td>0</td>\n",
       "      <td>Awesome! It's been our pleasure. You can also ...</td>\n",
       "    </tr>\n",
       "  </tbody>\n",
       "</table>\n",
       "</div>"
      ],
      "text/plain": [
       "  upi_company  Year  month                                            content  \\\n",
       "0    phonepay  2021     11                                               Good   \n",
       "1       paytm  2021     10  Very bad I'm trying to buy google play recharg...   \n",
       "2      Google  2020      3                                Does not work mince   \n",
       "3       paytm  2021     10                                              Power   \n",
       "4       paytm  2021     10                                    Good experience   \n",
       "\n",
       "   score  thumbsUpCount                                       replyContent  \n",
       "0      5              0                                   No_reply/No_data  \n",
       "1      1              0  Hi! We’d like to take a closer look and help y...  \n",
       "2      1              0  Hi Andrew. You can find the device requirement...  \n",
       "3      5              0                                   No_reply/No_data  \n",
       "4      5              0  Awesome! It's been our pleasure. You can also ...  "
      ]
     },
     "execution_count": 20,
     "metadata": {},
     "output_type": "execute_result"
    }
   ],
   "source": [
    "data[\"review_created_at\"] = pd.to_datetime(data[\"review_created_at\"])\n",
    "data[\"Year\"] = data['review_created_at'].dt.year\n",
    "data[\"month\"] = data['review_created_at'].dt.month\n",
    "data = data[[\"upi_company\", \"Year\", \"month\", \"content\", \"score\", \"thumbsUpCount\", \"replyContent\"]]\n",
    "data.head()"
   ]
  },
  {
   "cell_type": "markdown",
   "id": "041f6a0f",
   "metadata": {
    "papermill": {
     "duration": 0.048154,
     "end_time": "2021-11-30T11:14:09.241834",
     "exception": false,
     "start_time": "2021-11-30T11:14:09.193680",
     "status": "completed"
    },
    "tags": []
   },
   "source": [
    "### I took the \"score\" column and converted it into a discrete rating Bucket using `cut()` function, It helps to understand the rating (scoring) system in a better way."
   ]
  },
  {
   "cell_type": "code",
   "execution_count": 21,
   "id": "85f1ea8b",
   "metadata": {
    "execution": {
     "iopub.execute_input": "2021-11-30T11:14:09.342411Z",
     "iopub.status.busy": "2021-11-30T11:14:09.341711Z",
     "iopub.status.idle": "2021-11-30T11:14:09.356588Z",
     "shell.execute_reply": "2021-11-30T11:14:09.355931Z",
     "shell.execute_reply.started": "2021-11-30T11:12:16.156010Z"
    },
    "papermill": {
     "duration": 0.068124,
     "end_time": "2021-11-30T11:14:09.356731",
     "exception": false,
     "start_time": "2021-11-30T11:14:09.288607",
     "status": "completed"
    },
    "tags": []
   },
   "outputs": [
    {
     "data": {
      "text/html": [
       "<div>\n",
       "<style scoped>\n",
       "    .dataframe tbody tr th:only-of-type {\n",
       "        vertical-align: middle;\n",
       "    }\n",
       "\n",
       "    .dataframe tbody tr th {\n",
       "        vertical-align: top;\n",
       "    }\n",
       "\n",
       "    .dataframe thead th {\n",
       "        text-align: right;\n",
       "    }\n",
       "</style>\n",
       "<table border=\"1\" class=\"dataframe\">\n",
       "  <thead>\n",
       "    <tr style=\"text-align: right;\">\n",
       "      <th></th>\n",
       "      <th>upi_company</th>\n",
       "      <th>Year</th>\n",
       "      <th>month</th>\n",
       "      <th>content</th>\n",
       "      <th>score</th>\n",
       "      <th>thumbsUpCount</th>\n",
       "      <th>replyContent</th>\n",
       "    </tr>\n",
       "  </thead>\n",
       "  <tbody>\n",
       "    <tr>\n",
       "      <th>0</th>\n",
       "      <td>phonepay</td>\n",
       "      <td>2021</td>\n",
       "      <td>11</td>\n",
       "      <td>Good</td>\n",
       "      <td>Excellent</td>\n",
       "      <td>0</td>\n",
       "      <td>No_reply/No_data</td>\n",
       "    </tr>\n",
       "    <tr>\n",
       "      <th>1</th>\n",
       "      <td>paytm</td>\n",
       "      <td>2021</td>\n",
       "      <td>10</td>\n",
       "      <td>Very bad I'm trying to buy google play recharg...</td>\n",
       "      <td>very Negative</td>\n",
       "      <td>0</td>\n",
       "      <td>Hi! We’d like to take a closer look and help y...</td>\n",
       "    </tr>\n",
       "    <tr>\n",
       "      <th>2</th>\n",
       "      <td>Google</td>\n",
       "      <td>2020</td>\n",
       "      <td>3</td>\n",
       "      <td>Does not work mince</td>\n",
       "      <td>very Negative</td>\n",
       "      <td>0</td>\n",
       "      <td>Hi Andrew. You can find the device requirement...</td>\n",
       "    </tr>\n",
       "    <tr>\n",
       "      <th>3</th>\n",
       "      <td>paytm</td>\n",
       "      <td>2021</td>\n",
       "      <td>10</td>\n",
       "      <td>Power</td>\n",
       "      <td>Excellent</td>\n",
       "      <td>0</td>\n",
       "      <td>No_reply/No_data</td>\n",
       "    </tr>\n",
       "    <tr>\n",
       "      <th>4</th>\n",
       "      <td>paytm</td>\n",
       "      <td>2021</td>\n",
       "      <td>10</td>\n",
       "      <td>Good experience</td>\n",
       "      <td>Excellent</td>\n",
       "      <td>0</td>\n",
       "      <td>Awesome! It's been our pleasure. You can also ...</td>\n",
       "    </tr>\n",
       "  </tbody>\n",
       "</table>\n",
       "</div>"
      ],
      "text/plain": [
       "  upi_company  Year  month                                            content  \\\n",
       "0    phonepay  2021     11                                               Good   \n",
       "1       paytm  2021     10  Very bad I'm trying to buy google play recharg...   \n",
       "2      Google  2020      3                                Does not work mince   \n",
       "3       paytm  2021     10                                              Power   \n",
       "4       paytm  2021     10                                    Good experience   \n",
       "\n",
       "           score  thumbsUpCount  \\\n",
       "0      Excellent              0   \n",
       "1  very Negative              0   \n",
       "2  very Negative              0   \n",
       "3      Excellent              0   \n",
       "4      Excellent              0   \n",
       "\n",
       "                                        replyContent  \n",
       "0                                   No_reply/No_data  \n",
       "1  Hi! We’d like to take a closer look and help y...  \n",
       "2  Hi Andrew. You can find the device requirement...  \n",
       "3                                   No_reply/No_data  \n",
       "4  Awesome! It's been our pleasure. You can also ...  "
      ]
     },
     "execution_count": 21,
     "metadata": {},
     "output_type": "execute_result"
    }
   ],
   "source": [
    "scores = [0, 1, 2, 3, 4, 5]\n",
    "scores_name = [\"very Negative\", \"Negative\", \"Average\", \"Positive\", \"Excellent\"]\n",
    "data[\"score\"] = pd.cut(data[\"score\"],scores, labels=scores_name)\n",
    "data.head()"
   ]
  },
  {
   "cell_type": "code",
   "execution_count": 22,
   "id": "00b44550",
   "metadata": {
    "execution": {
     "iopub.execute_input": "2021-11-30T11:14:09.460420Z",
     "iopub.status.busy": "2021-11-30T11:14:09.459270Z",
     "iopub.status.idle": "2021-11-30T11:14:09.462909Z",
     "shell.execute_reply": "2021-11-30T11:14:09.463488Z",
     "shell.execute_reply.started": "2021-11-30T11:12:16.176540Z"
    },
    "papermill": {
     "duration": 0.058656,
     "end_time": "2021-11-30T11:14:09.463665",
     "exception": false,
     "start_time": "2021-11-30T11:14:09.405009",
     "status": "completed"
    },
    "tags": []
   },
   "outputs": [],
   "source": [
    "backup_data = data.copy()"
   ]
  },
  {
   "cell_type": "markdown",
   "id": "b31377f5",
   "metadata": {
    "papermill": {
     "duration": 0.047313,
     "end_time": "2021-11-30T11:14:09.558776",
     "exception": false,
     "start_time": "2021-11-30T11:14:09.511463",
     "status": "completed"
    },
    "tags": []
   },
   "source": [
    "# EDA"
   ]
  },
  {
   "cell_type": "markdown",
   "id": "64988cc0",
   "metadata": {
    "papermill": {
     "duration": 0.047205,
     "end_time": "2021-11-30T11:14:09.657518",
     "exception": false,
     "start_time": "2021-11-30T11:14:09.610313",
     "status": "completed"
    },
    "tags": []
   },
   "source": [
    "## First i will do eda on each an every company seperately"
   ]
  },
  {
   "cell_type": "markdown",
   "id": "c4683d0e",
   "metadata": {
    "papermill": {
     "duration": 0.048796,
     "end_time": "2021-11-30T11:14:09.755190",
     "exception": false,
     "start_time": "2021-11-30T11:14:09.706394",
     "status": "completed"
    },
    "tags": []
   },
   "source": [
    "### EDA On Google"
   ]
  },
  {
   "cell_type": "code",
   "execution_count": 23,
   "id": "d947b263",
   "metadata": {
    "execution": {
     "iopub.execute_input": "2021-11-30T11:14:09.858564Z",
     "iopub.status.busy": "2021-11-30T11:14:09.857820Z",
     "iopub.status.idle": "2021-11-30T11:14:10.116926Z",
     "shell.execute_reply": "2021-11-30T11:14:10.117441Z",
     "shell.execute_reply.started": "2021-11-30T11:12:16.185380Z"
    },
    "papermill": {
     "duration": 0.312288,
     "end_time": "2021-11-30T11:14:10.117610",
     "exception": false,
     "start_time": "2021-11-30T11:14:09.805322",
     "status": "completed"
    },
    "tags": []
   },
   "outputs": [
    {
     "data": {
      "image/png": "[encoded data removed]",
      "text/plain": [
       "<Figure size 1080x432 with 1 Axes>"
      ]
     },
     "metadata": {
      "needs_background": "light"
     },
     "output_type": "display_data"
    }
   ],
   "source": [
    "google_data[\"reply_given\"] = google_data[\"replyContent\"].apply(lambda x: \"reply Given\" if x != 'No_reply/No_data' else \"No Reply\")\n",
    "\n",
    "plt.figure(figsize=(15,6))\n",
    "sns.countplot(x=\"score\", hue=\"reply_given\", data=google_data)\n",
    "plt.title('Bar Plot To get relationship Between Scores and Reply Given By Management')\n",
    "plt.show()\n"
   ]
  },
  {
   "cell_type": "code",
   "execution_count": 24,
   "id": "f5aa2605",
   "metadata": {
    "execution": {
     "iopub.execute_input": "2021-11-30T11:14:10.217098Z",
     "iopub.status.busy": "2021-11-30T11:14:10.216479Z",
     "iopub.status.idle": "2021-11-30T11:14:10.730613Z",
     "shell.execute_reply": "2021-11-30T11:14:10.731501Z",
     "shell.execute_reply.started": "2021-11-30T11:12:16.492810Z"
    },
    "papermill": {
     "duration": 0.566014,
     "end_time": "2021-11-30T11:14:10.731776",
     "exception": false,
     "start_time": "2021-11-30T11:14:10.165762",
     "status": "completed"
    },
    "tags": []
   },
   "outputs": [
    {
     "data": {
      "image/png": "[encoded data removed]",
      "text/plain": [
       "<Figure size 1080x432 with 1 Axes>"
      ]
     },
     "metadata": {
      "needs_background": "light"
     },
     "output_type": "display_data"
    }
   ],
   "source": [
    "plt.figure(figsize=(15,6))\n",
    "sns.barplot(x=\"score\", y=\"thumbsUpCount\", data=google_data)\n",
    "plt.title('Bar Plot To get relationship Between Scores and ThumbsUpCount')\n",
    "plt.show()"
   ]
  },
  {
   "cell_type": "markdown",
   "id": "36cfc84c",
   "metadata": {
    "papermill": {
     "duration": 0.050212,
     "end_time": "2021-11-30T11:14:10.831839",
     "exception": false,
     "start_time": "2021-11-30T11:14:10.781627",
     "status": "completed"
    },
    "tags": []
   },
   "source": [
    "\n",
    "## EDA On Paytm"
   ]
  },
  {
   "cell_type": "code",
   "execution_count": 25,
   "id": "5941ee1c",
   "metadata": {
    "execution": {
     "iopub.execute_input": "2021-11-30T11:14:10.933638Z",
     "iopub.status.busy": "2021-11-30T11:14:10.933000Z",
     "iopub.status.idle": "2021-11-30T11:14:11.331298Z",
     "shell.execute_reply": "2021-11-30T11:14:11.330768Z",
     "shell.execute_reply.started": "2021-11-30T11:12:17.062253Z"
    },
    "papermill": {
     "duration": 0.449724,
     "end_time": "2021-11-30T11:14:11.331456",
     "exception": false,
     "start_time": "2021-11-30T11:14:10.881732",
     "status": "completed"
    },
    "tags": []
   },
   "outputs": [
    {
     "data": {
      "image/png": "[encoded data removed]",
      "text/plain": [
       "<Figure size 1080x432 with 1 Axes>"
      ]
     },
     "metadata": {
      "needs_background": "light"
     },
     "output_type": "display_data"
    }
   ],
   "source": [
    "paytm_data[\"reply_given\"] = paytm_data[\"replyContent\"].apply(lambda x: \"reply Given\" if x != 'No_reply/No_data' else \"No Reply\")\n",
    "\n",
    "plt.figure(figsize=(15,6))\n",
    "sns.countplot(x=\"score\", hue=\"reply_given\", data=paytm_data)\n",
    "plt.title('Bar Plot To get relationship Between Scores and Reply Given By Management')\n",
    "plt.show()"
   ]
  },
  {
   "cell_type": "code",
   "execution_count": 26,
   "id": "dab02e00",
   "metadata": {
    "execution": {
     "iopub.execute_input": "2021-11-30T11:14:11.438541Z",
     "iopub.status.busy": "2021-11-30T11:14:11.437792Z",
     "iopub.status.idle": "2021-11-30T11:14:12.749375Z",
     "shell.execute_reply": "2021-11-30T11:14:12.748677Z",
     "shell.execute_reply.started": "2021-11-30T11:12:17.459506Z"
    },
    "papermill": {
     "duration": 1.368111,
     "end_time": "2021-11-30T11:14:12.749523",
     "exception": false,
     "start_time": "2021-11-30T11:14:11.381412",
     "status": "completed"
    },
    "tags": []
   },
   "outputs": [
    {
     "data": {
      "image/png": "[encoded data removed]",
      "text/plain": [
       "<Figure size 1080x432 with 1 Axes>"
      ]
     },
     "metadata": {
      "needs_background": "light"
     },
     "output_type": "display_data"
    }
   ],
   "source": [
    "plt.figure(figsize=(15,6))\n",
    "sns.barplot(x=\"score\", y=\"thumbsUpCount\", data=paytm_data)\n",
    "plt.title('Bar Plot To get relationship Between Scores and ThumbsUpCount')\n",
    "plt.show()"
   ]
  },
  {
   "cell_type": "markdown",
   "id": "abdd65e4",
   "metadata": {
    "papermill": {
     "duration": 0.065956,
     "end_time": "2021-11-30T11:14:12.869600",
     "exception": false,
     "start_time": "2021-11-30T11:14:12.803644",
     "status": "completed"
    },
    "tags": []
   },
   "source": [
    "## EDA On PhonePay"
   ]
  },
  {
   "cell_type": "code",
   "execution_count": 27,
   "id": "a8712d54",
   "metadata": {
    "execution": {
     "iopub.execute_input": "2021-11-30T11:14:12.985898Z",
     "iopub.status.busy": "2021-11-30T11:14:12.985128Z",
     "iopub.status.idle": "2021-11-30T11:14:13.263415Z",
     "shell.execute_reply": "2021-11-30T11:14:13.262744Z",
     "shell.execute_reply.started": "2021-11-30T11:12:18.756297Z"
    },
    "papermill": {
     "duration": 0.332233,
     "end_time": "2021-11-30T11:14:13.263559",
     "exception": false,
     "start_time": "2021-11-30T11:14:12.931326",
     "status": "completed"
    },
    "tags": []
   },
   "outputs": [
    {
     "data": {
      "image/png": "[encoded data removed]",
      "text/plain": [
       "<Figure size 1080x432 with 1 Axes>"
      ]
     },
     "metadata": {
      "needs_background": "light"
     },
     "output_type": "display_data"
    }
   ],
   "source": [
    "phonepay_data[\"reply_given\"] = phonepay_data[\"replyContent\"].apply(lambda x: \"reply Given\" if x != 'No_reply/No_data' else \"No Reply\")\n",
    "\n",
    "plt.figure(figsize=(15,6))\n",
    "sns.countplot(x=\"score\", hue=\"reply_given\", data=phonepay_data)\n",
    "plt.title('Bar Plot To get relationship Between Scores and Reply Given By Management')\n",
    "plt.show()"
   ]
  },
  {
   "cell_type": "code",
   "execution_count": 28,
   "id": "f93b0aba",
   "metadata": {
    "execution": {
     "iopub.execute_input": "2021-11-30T11:14:13.372212Z",
     "iopub.status.busy": "2021-11-30T11:14:13.371538Z",
     "iopub.status.idle": "2021-11-30T11:14:13.826244Z",
     "shell.execute_reply": "2021-11-30T11:14:13.825601Z",
     "shell.execute_reply.started": "2021-11-30T11:12:19.037944Z"
    },
    "papermill": {
     "duration": 0.510532,
     "end_time": "2021-11-30T11:14:13.826412",
     "exception": false,
     "start_time": "2021-11-30T11:14:13.315880",
     "status": "completed"
    },
    "tags": []
   },
   "outputs": [
    {
     "data": {
      "image/png": "[encoded data removed]",
      "text/plain": [
       "<Figure size 1080x432 with 1 Axes>"
      ]
     },
     "metadata": {
      "needs_background": "light"
     },
     "output_type": "display_data"
    }
   ],
   "source": [
    "plt.figure(figsize=(15,6))\n",
    "sns.barplot(x=\"score\", y=\"thumbsUpCount\", data=phonepay_data)\n",
    "plt.title('Bar Plot To get relationship Between Scores and ThumbsUpCount')\n",
    "plt.show()"
   ]
  },
  {
   "cell_type": "markdown",
   "id": "cb19c384",
   "metadata": {
    "papermill": {
     "duration": 0.05228,
     "end_time": "2021-11-30T11:14:13.933750",
     "exception": false,
     "start_time": "2021-11-30T11:14:13.881470",
     "status": "completed"
    },
    "tags": []
   },
   "source": [
    "## Duing EDA On all the companies\n",
    "We have done the EDA on all individual Companies now we will compare all the Companies together and find the best Company."
   ]
  },
  {
   "cell_type": "code",
   "execution_count": 29,
   "id": "1d7f5d47",
   "metadata": {
    "execution": {
     "iopub.execute_input": "2021-11-30T11:14:14.052112Z",
     "iopub.status.busy": "2021-11-30T11:14:14.050696Z",
     "iopub.status.idle": "2021-11-30T11:14:14.058051Z",
     "shell.execute_reply": "2021-11-30T11:14:14.058627Z",
     "shell.execute_reply.started": "2021-11-30T11:12:19.497602Z"
    },
    "papermill": {
     "duration": 0.070551,
     "end_time": "2021-11-30T11:14:14.058806",
     "exception": false,
     "start_time": "2021-11-30T11:14:13.988255",
     "status": "completed"
    },
    "tags": []
   },
   "outputs": [
    {
     "data": {
      "text/html": [
       "<div>\n",
       "<style scoped>\n",
       "    .dataframe tbody tr th:only-of-type {\n",
       "        vertical-align: middle;\n",
       "    }\n",
       "\n",
       "    .dataframe tbody tr th {\n",
       "        vertical-align: top;\n",
       "    }\n",
       "\n",
       "    .dataframe thead th {\n",
       "        text-align: right;\n",
       "    }\n",
       "</style>\n",
       "<table border=\"1\" class=\"dataframe\">\n",
       "  <thead>\n",
       "    <tr style=\"text-align: right;\">\n",
       "      <th></th>\n",
       "      <th>upi_company</th>\n",
       "      <th>Year</th>\n",
       "      <th>month</th>\n",
       "      <th>content</th>\n",
       "      <th>score</th>\n",
       "      <th>thumbsUpCount</th>\n",
       "      <th>replyContent</th>\n",
       "    </tr>\n",
       "  </thead>\n",
       "  <tbody>\n",
       "    <tr>\n",
       "      <th>0</th>\n",
       "      <td>phonepay</td>\n",
       "      <td>2021</td>\n",
       "      <td>11</td>\n",
       "      <td>Good</td>\n",
       "      <td>Excellent</td>\n",
       "      <td>0</td>\n",
       "      <td>No_reply/No_data</td>\n",
       "    </tr>\n",
       "    <tr>\n",
       "      <th>1</th>\n",
       "      <td>paytm</td>\n",
       "      <td>2021</td>\n",
       "      <td>10</td>\n",
       "      <td>Very bad I'm trying to buy google play recharg...</td>\n",
       "      <td>very Negative</td>\n",
       "      <td>0</td>\n",
       "      <td>Hi! We’d like to take a closer look and help y...</td>\n",
       "    </tr>\n",
       "    <tr>\n",
       "      <th>2</th>\n",
       "      <td>Google</td>\n",
       "      <td>2020</td>\n",
       "      <td>3</td>\n",
       "      <td>Does not work mince</td>\n",
       "      <td>very Negative</td>\n",
       "      <td>0</td>\n",
       "      <td>Hi Andrew. You can find the device requirement...</td>\n",
       "    </tr>\n",
       "    <tr>\n",
       "      <th>3</th>\n",
       "      <td>paytm</td>\n",
       "      <td>2021</td>\n",
       "      <td>10</td>\n",
       "      <td>Power</td>\n",
       "      <td>Excellent</td>\n",
       "      <td>0</td>\n",
       "      <td>No_reply/No_data</td>\n",
       "    </tr>\n",
       "    <tr>\n",
       "      <th>4</th>\n",
       "      <td>paytm</td>\n",
       "      <td>2021</td>\n",
       "      <td>10</td>\n",
       "      <td>Good experience</td>\n",
       "      <td>Excellent</td>\n",
       "      <td>0</td>\n",
       "      <td>Awesome! It's been our pleasure. You can also ...</td>\n",
       "    </tr>\n",
       "  </tbody>\n",
       "</table>\n",
       "</div>"
      ],
      "text/plain": [
       "  upi_company  Year  month                                            content  \\\n",
       "0    phonepay  2021     11                                               Good   \n",
       "1       paytm  2021     10  Very bad I'm trying to buy google play recharg...   \n",
       "2      Google  2020      3                                Does not work mince   \n",
       "3       paytm  2021     10                                              Power   \n",
       "4       paytm  2021     10                                    Good experience   \n",
       "\n",
       "           score  thumbsUpCount  \\\n",
       "0      Excellent              0   \n",
       "1  very Negative              0   \n",
       "2  very Negative              0   \n",
       "3      Excellent              0   \n",
       "4      Excellent              0   \n",
       "\n",
       "                                        replyContent  \n",
       "0                                   No_reply/No_data  \n",
       "1  Hi! We’d like to take a closer look and help y...  \n",
       "2  Hi Andrew. You can find the device requirement...  \n",
       "3                                   No_reply/No_data  \n",
       "4  Awesome! It's been our pleasure. You can also ...  "
      ]
     },
     "execution_count": 29,
     "metadata": {},
     "output_type": "execute_result"
    }
   ],
   "source": [
    "data.head()"
   ]
  },
  {
   "cell_type": "code",
   "execution_count": 30,
   "id": "e17765f9",
   "metadata": {
    "execution": {
     "iopub.execute_input": "2021-11-30T11:14:14.171351Z",
     "iopub.status.busy": "2021-11-30T11:14:14.170328Z",
     "iopub.status.idle": "2021-11-30T11:14:14.491741Z",
     "shell.execute_reply": "2021-11-30T11:14:14.492235Z",
     "shell.execute_reply.started": "2021-11-30T11:12:19.512240Z"
    },
    "papermill": {
     "duration": 0.379635,
     "end_time": "2021-11-30T11:14:14.492435",
     "exception": false,
     "start_time": "2021-11-30T11:14:14.112800",
     "status": "completed"
    },
    "tags": []
   },
   "outputs": [
    {
     "data": {
      "image/png": "[encoded data removed]",
      "text/plain": [
       "<Figure size 1080x432 with 1 Axes>"
      ]
     },
     "metadata": {
      "needs_background": "light"
     },
     "output_type": "display_data"
    }
   ],
   "source": [
    "plt.figure(figsize=(15,6))\n",
    "sns.countplot(x=\"score\", hue=\"upi_company\", data=data)\n",
    "plt.title('Bar Plot To Show which Company has maximum number of reviews in all category')\n",
    "plt.show()"
   ]
  },
  {
   "cell_type": "code",
   "execution_count": 31,
   "id": "b663d643",
   "metadata": {
    "execution": {
     "iopub.execute_input": "2021-11-30T11:14:14.606333Z",
     "iopub.status.busy": "2021-11-30T11:14:14.605231Z",
     "iopub.status.idle": "2021-11-30T11:14:15.620786Z",
     "shell.execute_reply": "2021-11-30T11:14:15.621421Z",
     "shell.execute_reply.started": "2021-11-30T11:12:19.843025Z"
    },
    "papermill": {
     "duration": 1.073725,
     "end_time": "2021-11-30T11:14:15.621602",
     "exception": false,
     "start_time": "2021-11-30T11:14:14.547877",
     "status": "completed"
    },
    "tags": []
   },
   "outputs": [
    {
     "data": {
      "image/png": "[encoded data removed]",
      "text/plain": [
       "<Figure size 1080x432 with 1 Axes>"
      ]
     },
     "metadata": {
      "needs_background": "light"
     },
     "output_type": "display_data"
    }
   ],
   "source": [
    "plt.figure(figsize=(15,6))\n",
    "sns.barplot(x=\"score\", y=\"thumbsUpCount\", hue=\"upi_company\", data=data)\n",
    "plt.title('Bar Plot To Show which Company has more number of votes in all scores Category')\n",
    "plt.show()"
   ]
  },
  {
   "cell_type": "code",
   "execution_count": 32,
   "id": "8e640651",
   "metadata": {
    "execution": {
     "iopub.execute_input": "2021-11-30T11:14:15.740882Z",
     "iopub.status.busy": "2021-11-30T11:14:15.739833Z",
     "iopub.status.idle": "2021-11-30T11:14:16.021317Z",
     "shell.execute_reply": "2021-11-30T11:14:16.020716Z",
     "shell.execute_reply.started": "2021-11-30T11:12:20.859587Z"
    },
    "papermill": {
     "duration": 0.344134,
     "end_time": "2021-11-30T11:14:16.021459",
     "exception": false,
     "start_time": "2021-11-30T11:14:15.677325",
     "status": "completed"
    },
    "tags": []
   },
   "outputs": [
    {
     "data": {
      "image/png": "[encoded data removed]",
      "text/plain": [
       "<Figure size 1080x432 with 1 Axes>"
      ]
     },
     "metadata": {
      "needs_background": "light"
     },
     "output_type": "display_data"
    }
   ],
   "source": [
    "plt.figure(figsize=(15,6))\n",
    "sns.countplot(data=data, x=\"Year\", hue=\"upi_company\")\n",
    "plt.title('Bar Plot To Show which Company has how much number of feedbacks in Years')\n",
    "plt.show()"
   ]
  },
  {
   "cell_type": "code",
   "execution_count": 33,
   "id": "95972abd",
   "metadata": {
    "execution": {
     "iopub.execute_input": "2021-11-30T11:14:16.142422Z",
     "iopub.status.busy": "2021-11-30T11:14:16.141738Z",
     "iopub.status.idle": "2021-11-30T11:14:16.548814Z",
     "shell.execute_reply": "2021-11-30T11:14:16.549256Z",
     "shell.execute_reply.started": "2021-11-30T11:12:21.151879Z"
    },
    "papermill": {
     "duration": 0.471061,
     "end_time": "2021-11-30T11:14:16.549453",
     "exception": false,
     "start_time": "2021-11-30T11:14:16.078392",
     "status": "completed"
    },
    "tags": []
   },
   "outputs": [
    {
     "data": {
      "image/png": "[encoded data removed]",
      "text/plain": [
       "<Figure size 1080x432 with 1 Axes>"
      ]
     },
     "metadata": {
      "needs_background": "light"
     },
     "output_type": "display_data"
    }
   ],
   "source": [
    "plt.figure(figsize=(15,6))\n",
    "sns.countplot(data=data, x=\"month\", hue=\"upi_company\")\n",
    "plt.title('Bar Plot To Show which Company has how much number of feedbacks in Months')\n",
    "plt.show()"
   ]
  },
  {
   "cell_type": "markdown",
   "id": "f2c9d816",
   "metadata": {
    "papermill": {
     "duration": 0.059232,
     "end_time": "2021-11-30T11:14:16.665755",
     "exception": false,
     "start_time": "2021-11-30T11:14:16.606523",
     "status": "completed"
    },
    "tags": []
   },
   "source": [
    "\n",
    "# Result Of EDA\n",
    "I will be resulting in the Data specifically for all Company\n",
    "then I will compare all the companies together.\n",
    "\n",
    "#### EDA Result for Google Company:\n",
    "-  According to the data, Management has replied to that content/feedback which has a bad score rather than replying to that which has a good score. Which is a **great sign** that **Google UPI** is more responsive toward bad experienced Customer.\n",
    "-  According to the data, The content which has a negative rating has got a **maximum number of votes** which tells that it can possible that the user how gave the votes also in some period of time **faced that same issue**. \n",
    "\n",
    "#### EDA Result for Paytm Company:\n",
    "-  According to the data, Management replied to the content/feedback **ratio** is **balanced** in all the rating(score) categories. This means that Management has given replied not only to the low rating feedback but also to high rating feedback.\n",
    "- According to the data, The content that has a **negative rating** has got **most Upvotes** and the rating is in **decreasing order** when we move to a more positive rating and the least number of upvotes goes to 5rating feedback.\n",
    "\n",
    "#### EDA Result for PhonePay Company:\n",
    "- According to the data, Management replied to the content/feedback ratio **is balanced** in all the rating(score) categories. This means that Management has given replied not only to the low rating feedback but also to high rating feedback. **But** Overall there are much **less number of feedbacks** in negative and average ratings which may be a good sign (not sure) that people are not facing much problem.\n",
    "- According to the data, Very Negative(0-1) and Average(2-3) reviews have got the largest nymber of Upvotes.\n",
    "\n",
    "## Overall Review of all Three Companies:\n",
    "- According to the data, **Paytm** had got the **most excellent(4-5 score) reviews** which means **user** who **use Paytm** are much **happy with their services** than Phonepay and Google. In **Sound number** comes **PhonePay** which is also **not too behind** and at least comes **Google** which needs to **improve its Services**.\n",
    "- According to the data, the **Most Negative (0-1 scores) rating** goes to **Google** as I said Google has to improve its services to compete with other companies, and the **least** most negative rating goes to **Paytm** which is a good sign. \n",
    "- According to the data, **Paytm** and **PhonePay** have got the **largest number of Feedback** compared to Google, **But** I think we cant really on these matrics as we don't have **more data** to **clarify** it.\n",
    "- According to the data, **Month** wise in  **November** *Phonepay* has the maximum number of feedbacks, **But** again I think we cant really on these matrics as we don't have **more data** to **clarify** it.\n",
    "\n",
    "### Overall **Paytm** currently provides the **Best Services** in terms of **UPI Payment** as it has the most number of ratings but **Phonepay** is also not much behind with **little more effort Phonepay** can **win** the game but **Google** has to **work harder** to compete with these companies as their **rating** is the **least** when compared to other two. "
   ]
  },
  {
   "cell_type": "markdown",
   "id": "e5dacbe4",
   "metadata": {
    "papermill": {
     "duration": 0.058168,
     "end_time": "2021-11-30T11:14:16.783114",
     "exception": false,
     "start_time": "2021-11-30T11:14:16.724946",
     "status": "completed"
    },
    "tags": []
   },
   "source": [
    "## Author\n",
    "\n",
    "- [@everydaycodings(Kaggle)](https://www.kaggle.com/everydaycodings)\n",
    "- [@everydaycodings(Github)](https://github.com/everydaycodings)\n",
    "\n",
    "#### If You Lived this Kernal, If it was useful for You, Please Don't Forget To Give a UP Vote To It. So that can come to know this kind of Kernals are useful for the Kagglers so that I can make more informative Kernal like this.\n"
   ]
  }
 ],
 "metadata": {
  "kernelspec": {
   "display_name": "Python 3",
   "language": "python",
   "name": "python3"
  },
  "language_info": {
   "codemirror_mode": {
    "name": "ipython",
    "version": 3
   },
   "file_extension": ".py",
   "mimetype": "text/x-python",
   "name": "python",
   "nbconvert_exporter": "python",
   "pygments_lexer": "ipython3",
   "version": "3.7.10"
  },
  "papermill": {
   "default_parameters": {},
   "duration": 25.876716,
   "end_time": "2021-11-30T11:14:17.551464",
   "environment_variables": {},
   "exception": null,
   "input_path": "__notebook__.ipynb",
   "output_path": "__notebook__.ipynb",
   "parameters": {},
   "start_time": "2021-11-30T11:13:51.674748",
   "version": "2.3.3"
  }
 },
 "nbformat": 4,
 "nbformat_minor": 5
}
